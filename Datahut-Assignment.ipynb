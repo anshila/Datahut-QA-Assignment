{
 "cells": [
  {
   "cell_type": "code",
   "execution_count": 1,
   "id": "90504111-4cc0-4a58-81f2-222da1596142",
   "metadata": {},
   "outputs": [],
   "source": [
    "import numpy as np\n",
    "import pandas as pd"
   ]
  },
  {
   "cell_type": "markdown",
   "id": "36e5e91b-9f10-46e7-99c2-baad33596fd2",
   "metadata": {},
   "source": [
    "<div style=\"background-color:green; padding: 10px; border-radius: 5px;text-align: center;\">\n",
    "<h3 style=\"color: white;\">DATA COLLECTION </h3>\n",
    "</div>"
   ]
  },
  {
   "cell_type": "code",
   "execution_count": 2,
   "id": "47c27841-573a-4370-9cd8-56467a889074",
   "metadata": {},
   "outputs": [
    {
     "data": {
      "text/html": [
       "<div>\n",
       "<style scoped>\n",
       "    .dataframe tbody tr th:only-of-type {\n",
       "        vertical-align: middle;\n",
       "    }\n",
       "\n",
       "    .dataframe tbody tr th {\n",
       "        vertical-align: top;\n",
       "    }\n",
       "\n",
       "    .dataframe thead th {\n",
       "        text-align: right;\n",
       "    }\n",
       "</style>\n",
       "<table border=\"1\" class=\"dataframe\">\n",
       "  <thead>\n",
       "    <tr style=\"text-align: right;\">\n",
       "      <th></th>\n",
       "      <th>Unnamed: 0</th>\n",
       "      <th>ID</th>\n",
       "      <th>Name</th>\n",
       "      <th>Age</th>\n",
       "      <th>Email</th>\n",
       "      <th>Join Date</th>\n",
       "      <th>Salary</th>\n",
       "      <th>Department</th>\n",
       "    </tr>\n",
       "  </thead>\n",
       "  <tbody>\n",
       "    <tr>\n",
       "      <th>0</th>\n",
       "      <td>0</td>\n",
       "      <td>1e407ff9-6255-489d-a0de-34135d4f74bd</td>\n",
       "      <td>Hunter Thomas</td>\n",
       "      <td>25.0</td>\n",
       "      <td>xlopez@hotmail.com</td>\n",
       "      <td>NaN</td>\n",
       "      <td>88552.000000</td>\n",
       "      <td>Sales</td>\n",
       "    </tr>\n",
       "    <tr>\n",
       "      <th>1</th>\n",
       "      <td>1</td>\n",
       "      <td>379f55b8-87d5-4739-a146-7400b78c24d1</td>\n",
       "      <td>Jeremy Irwin</td>\n",
       "      <td>90.0</td>\n",
       "      <td>Jillian Jenkins</td>\n",
       "      <td>2022-07-07</td>\n",
       "      <td>139227.000000</td>\n",
       "      <td>NaN</td>\n",
       "    </tr>\n",
       "    <tr>\n",
       "      <th>2</th>\n",
       "      <td>2</td>\n",
       "      <td>18261368-dfa1-47f0-afc6-bddf45926b07</td>\n",
       "      <td>Jennifer Hammondquickly</td>\n",
       "      <td>66.0</td>\n",
       "      <td>jscottgreen.biz</td>\n",
       "      <td>2023-11-21</td>\n",
       "      <td>65550.000000</td>\n",
       "      <td>Engineering</td>\n",
       "    </tr>\n",
       "    <tr>\n",
       "      <th>3</th>\n",
       "      <td>3</td>\n",
       "      <td>ae7cf7cf-17cf-4c8b-9c44-4f61a9a238e5</td>\n",
       "      <td>Sydney Taylorso</td>\n",
       "      <td>39.0</td>\n",
       "      <td>luke56gonzalez.com</td>\n",
       "      <td>2021-11-05</td>\n",
       "      <td>139932.000000</td>\n",
       "      <td>SupportJ</td>\n",
       "    </tr>\n",
       "    <tr>\n",
       "      <th>4</th>\n",
       "      <td>4</td>\n",
       "      <td>14ed3e6a-e0f5-4bbe-8d93-8665267f5c90</td>\n",
       "      <td>Julia Lee</td>\n",
       "      <td>71.0</td>\n",
       "      <td>figueroakayla@yahoo.com</td>\n",
       "      <td>NaN</td>\n",
       "      <td>143456.000000</td>\n",
       "      <td>Marketing</td>\n",
       "    </tr>\n",
       "    <tr>\n",
       "      <th>...</th>\n",
       "      <td>...</td>\n",
       "      <td>...</td>\n",
       "      <td>...</td>\n",
       "      <td>...</td>\n",
       "      <td>...</td>\n",
       "      <td>...</td>\n",
       "      <td>...</td>\n",
       "      <td>...</td>\n",
       "    </tr>\n",
       "    <tr>\n",
       "      <th>10995</th>\n",
       "      <td>6523</td>\n",
       "      <td>07c223be-03e6-4f70-a2b5-86df778cc61a</td>\n",
       "      <td>NaN</td>\n",
       "      <td>NaN</td>\n",
       "      <td>NaN</td>\n",
       "      <td>NaN</td>\n",
       "      <td>NaN</td>\n",
       "      <td>NaN</td>\n",
       "    </tr>\n",
       "    <tr>\n",
       "      <th>10996</th>\n",
       "      <td>9785</td>\n",
       "      <td>da8a6bbc-5026-4630-848d-f64e80dac56c</td>\n",
       "      <td>Steven Armstrong</td>\n",
       "      <td>38.0</td>\n",
       "      <td>molly89gmail.com</td>\n",
       "      <td>2021-06-24</td>\n",
       "      <td>NaN</td>\n",
       "      <td>Sales</td>\n",
       "    </tr>\n",
       "    <tr>\n",
       "      <th>10997</th>\n",
       "      <td>7826</td>\n",
       "      <td>ed19c966-d6d8-4047-b410-b6e595a39340</td>\n",
       "      <td>Stephanie Riossell</td>\n",
       "      <td>NaN</td>\n",
       "      <td>robert96@pollard-frye.com</td>\n",
       "      <td>15/08/2006</td>\n",
       "      <td>122609.594149</td>\n",
       "      <td>HR</td>\n",
       "    </tr>\n",
       "    <tr>\n",
       "      <th>10998</th>\n",
       "      <td>7648</td>\n",
       "      <td>783b36b4-d09f-46c9-8a52-7ff96b80863e</td>\n",
       "      <td>Bonnie Benitez</td>\n",
       "      <td>37.0</td>\n",
       "      <td>roypark@warren.net</td>\n",
       "      <td>2020-10-09</td>\n",
       "      <td>147322.005171</td>\n",
       "      <td>Support</td>\n",
       "    </tr>\n",
       "    <tr>\n",
       "      <th>10999</th>\n",
       "      <td>7107</td>\n",
       "      <td>fc25a38a-5747-46eb-b6d3-7173f8255809</td>\n",
       "      <td>Caroline Ochoa</td>\n",
       "      <td>53.0</td>\n",
       "      <td>cdavis@hodges.com</td>\n",
       "      <td>2023-08-10</td>\n",
       "      <td>149224.000000</td>\n",
       "      <td>Support</td>\n",
       "    </tr>\n",
       "  </tbody>\n",
       "</table>\n",
       "<p>11000 rows × 8 columns</p>\n",
       "</div>"
      ],
      "text/plain": [
       "       Unnamed: 0                                    ID  \\\n",
       "0               0  1e407ff9-6255-489d-a0de-34135d4f74bd   \n",
       "1               1  379f55b8-87d5-4739-a146-7400b78c24d1   \n",
       "2               2  18261368-dfa1-47f0-afc6-bddf45926b07   \n",
       "3               3  ae7cf7cf-17cf-4c8b-9c44-4f61a9a238e5   \n",
       "4               4  14ed3e6a-e0f5-4bbe-8d93-8665267f5c90   \n",
       "...           ...                                   ...   \n",
       "10995        6523  07c223be-03e6-4f70-a2b5-86df778cc61a   \n",
       "10996        9785  da8a6bbc-5026-4630-848d-f64e80dac56c   \n",
       "10997        7826  ed19c966-d6d8-4047-b410-b6e595a39340   \n",
       "10998        7648  783b36b4-d09f-46c9-8a52-7ff96b80863e   \n",
       "10999        7107  fc25a38a-5747-46eb-b6d3-7173f8255809   \n",
       "\n",
       "                          Name   Age                      Email   Join Date  \\\n",
       "0                Hunter Thomas  25.0         xlopez@hotmail.com         NaN   \n",
       "1                 Jeremy Irwin  90.0            Jillian Jenkins  2022-07-07   \n",
       "2      Jennifer Hammondquickly  66.0            jscottgreen.biz  2023-11-21   \n",
       "3              Sydney Taylorso  39.0         luke56gonzalez.com  2021-11-05   \n",
       "4                    Julia Lee  71.0    figueroakayla@yahoo.com         NaN   \n",
       "...                        ...   ...                        ...         ...   \n",
       "10995                      NaN   NaN                        NaN         NaN   \n",
       "10996         Steven Armstrong  38.0           molly89gmail.com  2021-06-24   \n",
       "10997       Stephanie Riossell   NaN  robert96@pollard-frye.com  15/08/2006   \n",
       "10998           Bonnie Benitez  37.0         roypark@warren.net  2020-10-09   \n",
       "10999           Caroline Ochoa  53.0          cdavis@hodges.com  2023-08-10   \n",
       "\n",
       "              Salary   Department  \n",
       "0       88552.000000        Sales  \n",
       "1      139227.000000          NaN  \n",
       "2       65550.000000  Engineering  \n",
       "3      139932.000000     SupportJ  \n",
       "4      143456.000000    Marketing  \n",
       "...              ...          ...  \n",
       "10995            NaN          NaN  \n",
       "10996            NaN        Sales  \n",
       "10997  122609.594149           HR  \n",
       "10998  147322.005171      Support  \n",
       "10999  149224.000000      Support  \n",
       "\n",
       "[11000 rows x 8 columns]"
      ]
     },
     "execution_count": 2,
     "metadata": {},
     "output_type": "execute_result"
    }
   ],
   "source": [
    "# Load the dataset\n",
    "data = pd.read_csv('messy_data.csv')\n",
    "data"
   ]
  },
  {
   "cell_type": "markdown",
   "id": "2fcc0cda-44fe-4720-9157-a0593431d307",
   "metadata": {},
   "source": [
    "<div style=\"background-color:green; padding: 10px; border-radius: 5px;text-align: center;\">\n",
    "<h3 style=\"color: white;\">DATA DESCRIPTION</h3>\n",
    "</div>\n"
   ]
  },
  {
   "cell_type": "markdown",
   "id": "e9eb1218-ec7d-4792-bc1e-5eea3767e9bb",
   "metadata": {},
   "source": [
    "The dataset contains several columns related to employee records, including:\n",
    "\n",
    "- ID: A unique identifier for each employee, with no missing values.\n",
    "- Name: Employee names, with inconsistencies like missing values, irregular capitalization, and extra characters.\n",
    "- Age: Represents employee age, with some missing entries.\n",
    "- Email: Contains email addresses, many of which are missing or incorrectly formatted.\n",
    "- Join Date: Shows when employees joined, but contains missing values and inconsistent date formats.\n",
    "- Salary: Employee salary data with missing values and noisy outliers that affect the overall distribution.\n",
    "- Department: The department each employee belongs to, but with typographical errors and inconsistent naming.\n",
    "\n",
    "The dataset had issues such as missing values, inconsistent formatting, and outliers, all of which needed to be addressed for proper analysis."
   ]
  },
  {
   "cell_type": "code",
   "execution_count": 3,
   "id": "54be3c97-d7fc-47cd-a6be-9919617c55c2",
   "metadata": {},
   "outputs": [
    {
     "name": "stdout",
     "output_type": "stream",
     "text": [
      "<class 'pandas.core.frame.DataFrame'>\n",
      "RangeIndex: 11000 entries, 0 to 10999\n",
      "Data columns (total 8 columns):\n",
      " #   Column      Non-Null Count  Dtype  \n",
      "---  ------      --------------  -----  \n",
      " 0   Unnamed: 0  11000 non-null  int64  \n",
      " 1   ID          11000 non-null  object \n",
      " 2   Name        8667 non-null   object \n",
      " 3   Age         9253 non-null   float64\n",
      " 4   Email       9731 non-null   object \n",
      " 5   Join Date   8808 non-null   object \n",
      " 6   Salary      8761 non-null   float64\n",
      " 7   Department  8745 non-null   object \n",
      "dtypes: float64(2), int64(1), object(5)\n",
      "memory usage: 687.6+ KB\n"
     ]
    }
   ],
   "source": [
    "# Get an overview of the dataset\n",
    "data.info()"
   ]
  },
  {
   "cell_type": "code",
   "execution_count": 4,
   "id": "74e24f2f-46a3-4e80-8658-11d6cf2a684a",
   "metadata": {},
   "outputs": [
    {
     "data": {
      "text/html": [
       "<div>\n",
       "<style scoped>\n",
       "    .dataframe tbody tr th:only-of-type {\n",
       "        vertical-align: middle;\n",
       "    }\n",
       "\n",
       "    .dataframe tbody tr th {\n",
       "        vertical-align: top;\n",
       "    }\n",
       "\n",
       "    .dataframe thead th {\n",
       "        text-align: right;\n",
       "    }\n",
       "</style>\n",
       "<table border=\"1\" class=\"dataframe\">\n",
       "  <thead>\n",
       "    <tr style=\"text-align: right;\">\n",
       "      <th></th>\n",
       "      <th>Unnamed: 0</th>\n",
       "      <th>ID</th>\n",
       "      <th>Name</th>\n",
       "      <th>Age</th>\n",
       "      <th>Email</th>\n",
       "      <th>Join Date</th>\n",
       "      <th>Salary</th>\n",
       "      <th>Department</th>\n",
       "    </tr>\n",
       "  </thead>\n",
       "  <tbody>\n",
       "    <tr>\n",
       "      <th>0</th>\n",
       "      <td>0</td>\n",
       "      <td>1e407ff9-6255-489d-a0de-34135d4f74bd</td>\n",
       "      <td>Hunter Thomas</td>\n",
       "      <td>25.0</td>\n",
       "      <td>xlopez@hotmail.com</td>\n",
       "      <td>NaN</td>\n",
       "      <td>88552.0</td>\n",
       "      <td>Sales</td>\n",
       "    </tr>\n",
       "    <tr>\n",
       "      <th>1</th>\n",
       "      <td>1</td>\n",
       "      <td>379f55b8-87d5-4739-a146-7400b78c24d1</td>\n",
       "      <td>Jeremy Irwin</td>\n",
       "      <td>90.0</td>\n",
       "      <td>Jillian Jenkins</td>\n",
       "      <td>2022-07-07</td>\n",
       "      <td>139227.0</td>\n",
       "      <td>NaN</td>\n",
       "    </tr>\n",
       "    <tr>\n",
       "      <th>2</th>\n",
       "      <td>2</td>\n",
       "      <td>18261368-dfa1-47f0-afc6-bddf45926b07</td>\n",
       "      <td>Jennifer Hammondquickly</td>\n",
       "      <td>66.0</td>\n",
       "      <td>jscottgreen.biz</td>\n",
       "      <td>2023-11-21</td>\n",
       "      <td>65550.0</td>\n",
       "      <td>Engineering</td>\n",
       "    </tr>\n",
       "    <tr>\n",
       "      <th>3</th>\n",
       "      <td>3</td>\n",
       "      <td>ae7cf7cf-17cf-4c8b-9c44-4f61a9a238e5</td>\n",
       "      <td>Sydney Taylorso</td>\n",
       "      <td>39.0</td>\n",
       "      <td>luke56gonzalez.com</td>\n",
       "      <td>2021-11-05</td>\n",
       "      <td>139932.0</td>\n",
       "      <td>SupportJ</td>\n",
       "    </tr>\n",
       "    <tr>\n",
       "      <th>4</th>\n",
       "      <td>4</td>\n",
       "      <td>14ed3e6a-e0f5-4bbe-8d93-8665267f5c90</td>\n",
       "      <td>Julia Lee</td>\n",
       "      <td>71.0</td>\n",
       "      <td>figueroakayla@yahoo.com</td>\n",
       "      <td>NaN</td>\n",
       "      <td>143456.0</td>\n",
       "      <td>Marketing</td>\n",
       "    </tr>\n",
       "  </tbody>\n",
       "</table>\n",
       "</div>"
      ],
      "text/plain": [
       "   Unnamed: 0                                    ID                     Name  \\\n",
       "0           0  1e407ff9-6255-489d-a0de-34135d4f74bd            Hunter Thomas   \n",
       "1           1  379f55b8-87d5-4739-a146-7400b78c24d1             Jeremy Irwin   \n",
       "2           2  18261368-dfa1-47f0-afc6-bddf45926b07  Jennifer Hammondquickly   \n",
       "3           3  ae7cf7cf-17cf-4c8b-9c44-4f61a9a238e5          Sydney Taylorso   \n",
       "4           4  14ed3e6a-e0f5-4bbe-8d93-8665267f5c90                Julia Lee   \n",
       "\n",
       "    Age                    Email   Join Date    Salary   Department  \n",
       "0  25.0       xlopez@hotmail.com         NaN   88552.0        Sales  \n",
       "1  90.0          Jillian Jenkins  2022-07-07  139227.0          NaN  \n",
       "2  66.0          jscottgreen.biz  2023-11-21   65550.0  Engineering  \n",
       "3  39.0       luke56gonzalez.com  2021-11-05  139932.0     SupportJ  \n",
       "4  71.0  figueroakayla@yahoo.com         NaN  143456.0    Marketing  "
      ]
     },
     "execution_count": 4,
     "metadata": {},
     "output_type": "execute_result"
    }
   ],
   "source": [
    "# Check the first few rows to understand the data structure\n",
    "data.head()"
   ]
  },
  {
   "cell_type": "code",
   "execution_count": 5,
   "id": "448d01be-067c-4138-bebc-a7945771a9b1",
   "metadata": {},
   "outputs": [
    {
     "data": {
      "text/plain": [
       "(11000, 8)"
      ]
     },
     "execution_count": 5,
     "metadata": {},
     "output_type": "execute_result"
    }
   ],
   "source": [
    "data.shape"
   ]
  },
  {
   "cell_type": "markdown",
   "id": "87a52ce6-308d-4ea3-89e8-b510772eb4e3",
   "metadata": {},
   "source": [
    "<div style=\"background-color:green; padding: 10px; border-radius: 5px;text-align: center;\">\n",
    "<h3 style=\"color: white;\">EDA (Exploratory Data Analysis) </h3>\n",
    "</div>"
   ]
  },
  {
   "cell_type": "code",
   "execution_count": 6,
   "id": "408ab23a-c8f4-4b43-8b78-e2e45081882a",
   "metadata": {},
   "outputs": [
    {
     "data": {
      "text/plain": [
       "Index(['Unnamed: 0', 'ID', 'Name', 'Age', 'Email', 'Join Date', 'Salary',\n",
       "       'Department'],\n",
       "      dtype='object')"
      ]
     },
     "execution_count": 6,
     "metadata": {},
     "output_type": "execute_result"
    }
   ],
   "source": [
    "# View columns in the dataset\n",
    "data.columns"
   ]
  },
  {
   "cell_type": "code",
   "execution_count": 7,
   "id": "2bad28d2-60a5-433c-bc11-d62597740281",
   "metadata": {},
   "outputs": [
    {
     "data": {
      "text/html": [
       "<div>\n",
       "<style scoped>\n",
       "    .dataframe tbody tr th:only-of-type {\n",
       "        vertical-align: middle;\n",
       "    }\n",
       "\n",
       "    .dataframe tbody tr th {\n",
       "        vertical-align: top;\n",
       "    }\n",
       "\n",
       "    .dataframe thead th {\n",
       "        text-align: right;\n",
       "    }\n",
       "</style>\n",
       "<table border=\"1\" class=\"dataframe\">\n",
       "  <thead>\n",
       "    <tr style=\"text-align: right;\">\n",
       "      <th></th>\n",
       "      <th>Unnamed: 0</th>\n",
       "      <th>Age</th>\n",
       "      <th>Salary</th>\n",
       "    </tr>\n",
       "  </thead>\n",
       "  <tbody>\n",
       "    <tr>\n",
       "      <th>count</th>\n",
       "      <td>11000.000000</td>\n",
       "      <td>9253.000000</td>\n",
       "      <td>8761.000000</td>\n",
       "    </tr>\n",
       "    <tr>\n",
       "      <th>mean</th>\n",
       "      <td>5012.947818</td>\n",
       "      <td>54.162650</td>\n",
       "      <td>89886.585012</td>\n",
       "    </tr>\n",
       "    <tr>\n",
       "      <th>std</th>\n",
       "      <td>2884.739158</td>\n",
       "      <td>21.072919</td>\n",
       "      <td>34896.320117</td>\n",
       "    </tr>\n",
       "    <tr>\n",
       "      <th>min</th>\n",
       "      <td>0.000000</td>\n",
       "      <td>18.000000</td>\n",
       "      <td>24655.136613</td>\n",
       "    </tr>\n",
       "    <tr>\n",
       "      <th>25%</th>\n",
       "      <td>2509.750000</td>\n",
       "      <td>36.000000</td>\n",
       "      <td>59723.844874</td>\n",
       "    </tr>\n",
       "    <tr>\n",
       "      <th>50%</th>\n",
       "      <td>5024.500000</td>\n",
       "      <td>54.000000</td>\n",
       "      <td>89241.000000</td>\n",
       "    </tr>\n",
       "    <tr>\n",
       "      <th>75%</th>\n",
       "      <td>7510.250000</td>\n",
       "      <td>72.000000</td>\n",
       "      <td>119491.000000</td>\n",
       "    </tr>\n",
       "    <tr>\n",
       "      <th>max</th>\n",
       "      <td>9999.000000</td>\n",
       "      <td>90.000000</td>\n",
       "      <td>176156.206747</td>\n",
       "    </tr>\n",
       "  </tbody>\n",
       "</table>\n",
       "</div>"
      ],
      "text/plain": [
       "         Unnamed: 0          Age         Salary\n",
       "count  11000.000000  9253.000000    8761.000000\n",
       "mean    5012.947818    54.162650   89886.585012\n",
       "std     2884.739158    21.072919   34896.320117\n",
       "min        0.000000    18.000000   24655.136613\n",
       "25%     2509.750000    36.000000   59723.844874\n",
       "50%     5024.500000    54.000000   89241.000000\n",
       "75%     7510.250000    72.000000  119491.000000\n",
       "max     9999.000000    90.000000  176156.206747"
      ]
     },
     "execution_count": 7,
     "metadata": {},
     "output_type": "execute_result"
    }
   ],
   "source": [
    "# View a statistical summary of numeric columns\n",
    "data.describe()"
   ]
  },
  {
   "cell_type": "code",
   "execution_count": 8,
   "id": "b6410fcf-c82c-460e-909b-e2ccc413e709",
   "metadata": {},
   "outputs": [
    {
     "data": {
      "text/plain": [
       "Unnamed: 0    10000\n",
       "ID            10000\n",
       "Name           7929\n",
       "Age              73\n",
       "Email          9160\n",
       "Join Date      3338\n",
       "Salary         8122\n",
       "Department      264\n",
       "dtype: int64"
      ]
     },
     "execution_count": 8,
     "metadata": {},
     "output_type": "execute_result"
    }
   ],
   "source": [
    "# Check the unique values in categorical columns (e.g., Department, Name)\n",
    "data.nunique()"
   ]
  },
  {
   "cell_type": "code",
   "execution_count": 9,
   "id": "df9fbea2-8958-4a1d-bbc9-042d8459e618",
   "metadata": {},
   "outputs": [
    {
     "name": "stdout",
     "output_type": "stream",
     "text": [
      "Number of duplicate rows:  291\n"
     ]
    }
   ],
   "source": [
    "# Check for duplicate rows\n",
    "duplicate_rows = data.duplicated().sum()\n",
    "print(\"Number of duplicate rows: \", duplicate_rows)\n"
   ]
  },
  {
   "cell_type": "code",
   "execution_count": 10,
   "id": "54cb8c10-3065-45d4-ad13-16d9a4f1d323",
   "metadata": {},
   "outputs": [
    {
     "name": "stdout",
     "output_type": "stream",
     "text": [
      "Data Types:\n",
      " Unnamed: 0      int64\n",
      "ID             object\n",
      "Name           object\n",
      "Age           float64\n",
      "Email          object\n",
      "Join Date      object\n",
      "Salary        float64\n",
      "Department     object\n",
      "dtype: object\n"
     ]
    }
   ],
   "source": [
    "# Display data types\n",
    "print(\"Data Types:\\n\", data.dtypes)"
   ]
  },
  {
   "cell_type": "code",
   "execution_count": 11,
   "id": "022a01d4-8afe-4c5d-aa8c-cb8f39cab0c5",
   "metadata": {},
   "outputs": [
    {
     "name": "stdout",
     "output_type": "stream",
     "text": [
      "Unique values in ID: ['1e407ff9-6255-489d-a0de-34135d4f74bd'\n",
      " '379f55b8-87d5-4739-a146-7400b78c24d1'\n",
      " '18261368-dfa1-47f0-afc6-bddf45926b07'\n",
      " 'ae7cf7cf-17cf-4c8b-9c44-4f61a9a238e5'\n",
      " '14ed3e6a-e0f5-4bbe-8d93-8665267f5c90']\n",
      "Unique values in Name: ['Hunter Thomas' 'Jeremy Irwin' 'Jennifer Hammondquickly'\n",
      " 'Sydney Taylorso' 'Julia Lee']\n",
      "Unique values in Email: ['xlopez@hotmail.com' 'Jillian Jenkins' 'jscottgreen.biz'\n",
      " 'luke56gonzalez.com' 'figueroakayla@yahoo.com']\n",
      "Unique values in Join Date: [nan '2022-07-07' '2023-11-21' '2021-11-05' '15/10/2016']\n",
      "Unique values in Department: ['Sales' nan 'Engineering' 'SupportJ' 'Marketing']\n"
     ]
    }
   ],
   "source": [
    "# Check for any obvious data type mismatches\n",
    "for column in data.columns:\n",
    "    if data[column].dtype == 'object':\n",
    "        # Check for unique values to spot inconsistencies\n",
    "        print(f\"Unique values in {column}: {data[column].unique()[:5]}\")  # Display a sample of 5 unique values\n"
   ]
  },
  {
   "cell_type": "markdown",
   "id": "f8829c5c-079d-47d7-be86-d5da4d22afc4",
   "metadata": {},
   "source": [
    "#### QA Issues Field-wise for the Dataset:"
   ]
  },
  {
   "cell_type": "code",
   "execution_count": 12,
   "id": "6ee608f8-7e93-47a8-a5eb-cbc3f241d178",
   "metadata": {},
   "outputs": [
    {
     "name": "stdout",
     "output_type": "stream",
     "text": [
      "Invalid email addresses:\n",
      " 1                 Jillian Jenkins\n",
      "2                 jscottgreen.biz\n",
      "3              luke56gonzalez.com\n",
      "6             pperkinshotmail.com\n",
      "7        josephrobertsongmail.com\n",
      "                   ...           \n",
      "10978                         NaN\n",
      "10988                         NaN\n",
      "10993              Michael Walker\n",
      "10995                         NaN\n",
      "10996            molly89gmail.com\n",
      "Name: Email, Length: 3699, dtype: object\n"
     ]
    }
   ],
   "source": [
    "# Check for invalid email addresses\n",
    "invalid_emails = data['Email'][~data['Email'].str.contains(r'^[a-zA-Z0-9_.+-]+@[a-zA-Z0-9-]+\\.[a-zA-Z0-9-.]+$', na=False)]\n",
    "print(\"Invalid email addresses:\\n\", invalid_emails)\n"
   ]
  },
  {
   "cell_type": "code",
   "execution_count": 13,
   "id": "c5fac31b-def6-43d6-92ec-78a27a0d16fc",
   "metadata": {},
   "outputs": [
    {
     "name": "stdout",
     "output_type": "stream",
     "text": [
      "Invalid names with special characters or spaces:\n",
      " 63            Mrs. Sheri Duffyparty\n",
      "74              Mr. Larry Mcpherson\n",
      "90       Mrs. Betty Robinsonmission\n",
      "225            Mrs. Karen Robertson\n",
      "269                Dr. Alex Collins\n",
      "                    ...            \n",
      "10500             Mrs. Amanda Smith\n",
      "10609      Mr. Juan Dixonparticular\n",
      "10661              Mrs. Linda Young\n",
      "10779             Mrs. Laura Howard\n",
      "10831        Mrs. Kimberly Martinez\n",
      "Name: Name, Length: 149, dtype: object\n"
     ]
    }
   ],
   "source": [
    "# Check for names with leading/trailing spaces or special characters\n",
    "invalid_names = data['Name'][data['Name'].str.contains(r'[^a-zA-Z\\s]', na=False)]\n",
    "print(\"Invalid names with special characters or spaces:\\n\", invalid_names)\n"
   ]
  },
  {
   "cell_type": "code",
   "execution_count": 14,
   "id": "310eb434-5e1e-4385-b393-484a7972c023",
   "metadata": {},
   "outputs": [
    {
     "name": "stdout",
     "output_type": "stream",
     "text": [
      "\n",
      "Unreasonable Salaries:\n",
      " Empty DataFrame\n",
      "Columns: [Unnamed: 0, ID, Name, Age, Email, Join Date, Salary, Department]\n",
      "Index: []\n"
     ]
    }
   ],
   "source": [
    "# Identify unreasonable salary values (assuming valid salary range between 20,000 and 200,000)\n",
    "unreasonable_salaries = data[(data['Salary'] < 20000) | (data['Salary'] > 200000)]\n",
    "print(\"\\nUnreasonable Salaries:\\n\", unreasonable_salaries)"
   ]
  },
  {
   "cell_type": "code",
   "execution_count": 15,
   "id": "601b9241-29bf-4492-9d99-f6f32c49fbb0",
   "metadata": {},
   "outputs": [
    {
     "name": "stdout",
     "output_type": "stream",
     "text": [
      "Salary Summary:\n",
      " count      8761.000000\n",
      "mean      89886.585012\n",
      "std       34896.320117\n",
      "min       24655.136613\n",
      "25%       59723.844874\n",
      "50%       89241.000000\n",
      "75%      119491.000000\n",
      "max      176156.206747\n",
      "Name: Salary, dtype: float64\n",
      "Unreasonable salaries:\n",
      " Empty DataFrame\n",
      "Columns: [Unnamed: 0, ID, Name, Age, Email, Join Date, Salary, Department]\n",
      "Index: []\n"
     ]
    }
   ],
   "source": [
    "# Check salary statistics\n",
    "print(\"Salary Summary:\\n\", data['Salary'].describe())\n",
    "\n",
    "# Check for salaries outside a reasonable range (assuming realistic limits)\n",
    "unreasonable_salaries = data[(data['Salary'] < 20000) | (data['Salary'] > 200000)]\n",
    "print(\"Unreasonable salaries:\\n\", unreasonable_salaries)\n"
   ]
  },
  {
   "cell_type": "code",
   "execution_count": 16,
   "id": "9ac4d511-dab3-4a4f-a1b8-16ab3d6fe7c8",
   "metadata": {},
   "outputs": [
    {
     "name": "stdout",
     "output_type": "stream",
     "text": [
      "Join Date issues:\n",
      "Invalid dates:\n",
      " 0               NaN\n",
      "4               NaN\n",
      "5        15/10/2016\n",
      "6        17/09/2020\n",
      "10              NaN\n",
      "            ...    \n",
      "10989    01/05/1982\n",
      "10993    25/12/1992\n",
      "10994           NaN\n",
      "10995           NaN\n",
      "10997    15/08/2006\n",
      "Name: Join Date, Length: 4010, dtype: object\n"
     ]
    }
   ],
   "source": [
    "# Check for any issues with 'Join Date' column\n",
    "print(\"Join Date issues:\")\n",
    "invalid_dates = data['Join Date'][pd.to_datetime(data['Join Date'], errors='coerce').isna()]\n",
    "print(\"Invalid dates:\\n\", invalid_dates)\n"
   ]
  },
  {
   "cell_type": "code",
   "execution_count": 17,
   "id": "705a19b1-1856-4938-81dd-92f6c3d79d0f",
   "metadata": {},
   "outputs": [
    {
     "name": "stdout",
     "output_type": "stream",
     "text": [
      "Unique department names:\n",
      " ['Sales' nan 'Engineering' 'SupportJ' 'Marketing' 'SupportE' 'HR'\n",
      " 'Support' 'HRC' 'SalesA' 'SalesX' 'Supportu' 'Engineeringi' 'MarketingR'\n",
      " 'Salesw' 'SalesK' 'MarketingU' 'Salesi' 'HRa' 'SalesG' 'Supporty'\n",
      " 'SalesN' 'Marketinge' 'Marketingv' 'HRv' 'SalesM' 'EngineeringL'\n",
      " 'MarketingQ' 'HRs' 'SalesW' 'Supportj' 'Salesd' 'Marketingu'\n",
      " 'Engineeringj' 'SalesU' 'HRO' 'MarketingH' 'Salesj' 'Saleso' 'SalesZ'\n",
      " 'Engineeringe' 'MarketingF' 'Marketingr' 'Engineeringm' 'HRW' 'HRt' 'HRz'\n",
      " 'Engineeringp' 'HRF' 'EngineeringS' 'SupportW' 'EngineeringT' 'SalesC'\n",
      " 'SalesB' 'SupportC' 'SalesY' 'Marketingn' 'EngineeringK' 'Marketingz'\n",
      " 'HRo' 'SupportB' 'HRi' 'Salest' 'Supportg' 'Supporta' 'HRn' 'SupportQ'\n",
      " 'Salesr' 'EngineeringG' 'Supportm' 'Supporto' 'EngineeringH' 'Marketingw'\n",
      " 'EngineeringM' 'Supportz' 'HRr' 'Salesy' 'MarketingD' 'HRE' 'Marketingm'\n",
      " 'HRw' 'Marketingo' 'Supportk' 'MarketingN' 'SupportS' 'EngineeringD'\n",
      " 'Marketingp' 'Salesl' 'MarketingI' 'MarketingL' 'SupportT' 'Engineeringn'\n",
      " 'MarketingO' 'SalesF' 'Salesz' 'Marketingt' 'Engineeringv' 'HRL' 'HRI'\n",
      " 'EngineeringR' 'HRD' 'Marketingk' 'HRQ' 'Salese' 'Saless' 'Marketingi'\n",
      " 'Salesn' 'Engineeringl' 'SalesE' 'HRy' 'EngineeringE' 'SalesD' 'HRm'\n",
      " 'Engineerings' 'SupportF' 'Marketingy' 'MarketingG' 'SalesI' 'Salesu'\n",
      " 'Engineeringg' 'EngineeringQ' 'MarketingE' 'SupportA' 'Engineeringq'\n",
      " 'EngineeringA' 'Supporte' 'Engineeringu' 'EngineeringO' 'SalesS'\n",
      " 'Supportv' 'HRK' 'Engineeringb' 'SalesV' 'HRT' 'SupportY' 'SalesQ'\n",
      " 'MarketingX' 'Supportp' 'Marketingf' 'HRU' 'HRp' 'Salesq' 'HRg'\n",
      " 'Marketingl' 'EngineeringV' 'Engineeringt' 'SupportO' 'SalesJ'\n",
      " 'EngineeringX' 'Engineeringc' 'Marketingh' 'EngineeringC' 'Engineeringz'\n",
      " 'HRP' 'Salesv' 'Engineeringk' 'SupportH' 'Salesk' 'Supporth' 'SupportZ'\n",
      " 'Supportq' 'Supportr' 'HRJ' 'Supportd' 'HRZ' 'MarketingZ' 'Salesc'\n",
      " 'EngineeringJ' 'Engineeringx' 'SalesR' 'Engineeringh' 'Supportl'\n",
      " 'SupportX' 'Marketingg' 'SalesH' 'MarketingC' 'SupportV' 'HRq'\n",
      " 'Marketingb' 'Supporti' 'Supportw' 'SupportL' 'Marketings' 'Marketingq'\n",
      " 'HRM' 'Supportt' 'HRX' 'HRl' 'EngineeringF' 'SupportP' 'HRf' 'MarketingB'\n",
      " 'Engineeringf' 'EngineeringW' 'HRB' 'Engineeringy' 'Marketinga' 'HRj'\n",
      " 'HRd' 'SupportI' 'HRA' 'Marketingj' 'MarketingV' 'EngineeringI' 'HRY'\n",
      " 'EngineeringZ' 'MarketingY' 'Marketingx' 'HRH' 'HRN' 'MarketingJ'\n",
      " 'MarketingW' 'HRh' 'Supportb' 'SalesT' 'Supportn' 'Engineeringa'\n",
      " 'SupportG' 'SalesO' 'SupportK' 'Engineeringd' 'HRk' 'Marketingd'\n",
      " 'MarketingS' 'MarketingT' 'HRR' 'Engineeringw' 'Salesg' 'HRb' 'SupportN'\n",
      " 'Marketingc' 'EngineeringU' 'Supportx' 'Salesp' 'HRu' 'MarketingK'\n",
      " 'SalesL' 'Salesx' 'SupportD' 'Supports' 'Salesm' 'Engineeringr' 'HRe'\n",
      " 'SupportM' 'MarketingM' 'SupportR' 'SupportU' 'Salesa' 'Salesf'\n",
      " 'Supportf' 'Salesh' 'Salesb' 'EngineeringB' 'HRG' 'Engineeringo'\n",
      " 'EngineeringN' 'HRV' 'HRS' 'SalesP' 'Supportc' 'HRx' 'EngineeringP' 'HRc'\n",
      " 'MarketingP' 'MarketingA']\n"
     ]
    }
   ],
   "source": [
    "# Check for unique department names to identify typos or inconsistencies\n",
    "unique_departments = data['Department'].unique()\n",
    "print(\"Unique department names:\\n\", unique_departments)\n"
   ]
  },
  {
   "cell_type": "code",
   "execution_count": 18,
   "id": "7d74f0c0-564a-41f1-b1d9-49326e6dd0cb",
   "metadata": {},
   "outputs": [
    {
     "name": "stdout",
     "output_type": "stream",
     "text": [
      "Unnamed: 0       0\n",
      "ID               0\n",
      "Name          2333\n",
      "Age           1747\n",
      "Email         1269\n",
      "Join Date     2192\n",
      "Salary        2239\n",
      "Department    2255\n",
      "dtype: int64\n"
     ]
    }
   ],
   "source": [
    "# Check for missing values\n",
    "missing_values = data.isnull().sum()\n",
    "print(missing_values)"
   ]
  },
  {
   "cell_type": "markdown",
   "id": "636a85e0-bdce-4352-8ac9-d9d92c99bb6d",
   "metadata": {},
   "source": [
    "1. Unnamed: 0 (Index column)\n",
    "Issue: Unnecessary column likely created during file export.\n",
    "2. ID\n",
    "Issue: No missing values; assumed to be a unique identifier.\n",
    "3. Name\n",
    "Issues:\n",
    "2333 missing values.\n",
    "Possible inconsistencies in formatting (e.g., extra characters, non-alphabetic symbols).\n",
    "Noise or unnecessary information in some names.\n",
    "4. Age\n",
    "Issues:\n",
    "1747 missing values.\n",
    "Outliers or unrealistic values may exist (e.g., very high or negative ages).\n",
    "5. Email\n",
    "Issues:\n",
    "1269 missing values.\n",
    "Invalid or unprofessional email formats.\n",
    "Noise in email data (e.g., personal email domains like Gmail, Yahoo).\n",
    "6. Join Date\n",
    "Issues:\n",
    "2192 missing values.\n",
    "Inconsistent date formats (e.g., mix of MM-DD-YYYY, YYYY-MM-DD).\n",
    "Possible future dates or incorrect past dates.\n",
    "7. Salary\n",
    "Issues:\n",
    "2239 missing values.\n",
    "Presence of outliers (e.g., extremely high or low salaries).\n",
    "Noise or unrealistic salary values (e.g., incorrect entries).\n",
    "8. Department\n",
    "Issues:\n",
    "2255 missing values.\n",
    "Typographical errors in department names (e.g., Engneering instead of Engineering).\n",
    "Inconsistent casing or spacing.\n"
   ]
  },
  {
   "cell_type": "markdown",
   "id": "5e34aaf0-2267-42d2-960b-a840a555140f",
   "metadata": {},
   "source": [
    "<div style=\"background-color:green; padding: 10px; border-radius: 5px;text-align: center;\">\n",
    "<h3 style=\"color: white;\">DATA PREPROCESSING</h3>\n",
    "</div>"
   ]
  },
  {
   "cell_type": "markdown",
   "id": "a105215a-80f2-4ff1-b9b0-ac8af3781b87",
   "metadata": {},
   "source": [
    "#### Handle Missing Values"
   ]
  },
  {
   "cell_type": "markdown",
   "id": "8c1d016d-ea05-408d-93f4-a22fa589ad17",
   "metadata": {},
   "source": [
    "There's an unwanted index column like Unnamed: 0, so droping it."
   ]
  },
  {
   "cell_type": "code",
   "execution_count": 19,
   "id": "68d1db2f-3a3c-4412-ba08-2d3f995669c8",
   "metadata": {},
   "outputs": [
    {
     "data": {
      "text/html": [
       "<div>\n",
       "<style scoped>\n",
       "    .dataframe tbody tr th:only-of-type {\n",
       "        vertical-align: middle;\n",
       "    }\n",
       "\n",
       "    .dataframe tbody tr th {\n",
       "        vertical-align: top;\n",
       "    }\n",
       "\n",
       "    .dataframe thead th {\n",
       "        text-align: right;\n",
       "    }\n",
       "</style>\n",
       "<table border=\"1\" class=\"dataframe\">\n",
       "  <thead>\n",
       "    <tr style=\"text-align: right;\">\n",
       "      <th></th>\n",
       "      <th>ID</th>\n",
       "      <th>Name</th>\n",
       "      <th>Age</th>\n",
       "      <th>Email</th>\n",
       "      <th>Join Date</th>\n",
       "      <th>Salary</th>\n",
       "      <th>Department</th>\n",
       "    </tr>\n",
       "  </thead>\n",
       "  <tbody>\n",
       "    <tr>\n",
       "      <th>0</th>\n",
       "      <td>1e407ff9-6255-489d-a0de-34135d4f74bd</td>\n",
       "      <td>Hunter Thomas</td>\n",
       "      <td>25.0</td>\n",
       "      <td>xlopez@hotmail.com</td>\n",
       "      <td>NaN</td>\n",
       "      <td>88552.0</td>\n",
       "      <td>Sales</td>\n",
       "    </tr>\n",
       "    <tr>\n",
       "      <th>1</th>\n",
       "      <td>379f55b8-87d5-4739-a146-7400b78c24d1</td>\n",
       "      <td>Jeremy Irwin</td>\n",
       "      <td>90.0</td>\n",
       "      <td>Jillian Jenkins</td>\n",
       "      <td>2022-07-07</td>\n",
       "      <td>139227.0</td>\n",
       "      <td>NaN</td>\n",
       "    </tr>\n",
       "    <tr>\n",
       "      <th>2</th>\n",
       "      <td>18261368-dfa1-47f0-afc6-bddf45926b07</td>\n",
       "      <td>Jennifer Hammondquickly</td>\n",
       "      <td>66.0</td>\n",
       "      <td>jscottgreen.biz</td>\n",
       "      <td>2023-11-21</td>\n",
       "      <td>65550.0</td>\n",
       "      <td>Engineering</td>\n",
       "    </tr>\n",
       "    <tr>\n",
       "      <th>3</th>\n",
       "      <td>ae7cf7cf-17cf-4c8b-9c44-4f61a9a238e5</td>\n",
       "      <td>Sydney Taylorso</td>\n",
       "      <td>39.0</td>\n",
       "      <td>luke56gonzalez.com</td>\n",
       "      <td>2021-11-05</td>\n",
       "      <td>139932.0</td>\n",
       "      <td>SupportJ</td>\n",
       "    </tr>\n",
       "    <tr>\n",
       "      <th>4</th>\n",
       "      <td>14ed3e6a-e0f5-4bbe-8d93-8665267f5c90</td>\n",
       "      <td>Julia Lee</td>\n",
       "      <td>71.0</td>\n",
       "      <td>figueroakayla@yahoo.com</td>\n",
       "      <td>NaN</td>\n",
       "      <td>143456.0</td>\n",
       "      <td>Marketing</td>\n",
       "    </tr>\n",
       "  </tbody>\n",
       "</table>\n",
       "</div>"
      ],
      "text/plain": [
       "                                     ID                     Name   Age  \\\n",
       "0  1e407ff9-6255-489d-a0de-34135d4f74bd            Hunter Thomas  25.0   \n",
       "1  379f55b8-87d5-4739-a146-7400b78c24d1             Jeremy Irwin  90.0   \n",
       "2  18261368-dfa1-47f0-afc6-bddf45926b07  Jennifer Hammondquickly  66.0   \n",
       "3  ae7cf7cf-17cf-4c8b-9c44-4f61a9a238e5          Sydney Taylorso  39.0   \n",
       "4  14ed3e6a-e0f5-4bbe-8d93-8665267f5c90                Julia Lee  71.0   \n",
       "\n",
       "                     Email   Join Date    Salary   Department  \n",
       "0       xlopez@hotmail.com         NaN   88552.0        Sales  \n",
       "1          Jillian Jenkins  2022-07-07  139227.0          NaN  \n",
       "2          jscottgreen.biz  2023-11-21   65550.0  Engineering  \n",
       "3       luke56gonzalez.com  2021-11-05  139932.0     SupportJ  \n",
       "4  figueroakayla@yahoo.com         NaN  143456.0    Marketing  "
      ]
     },
     "execution_count": 19,
     "metadata": {},
     "output_type": "execute_result"
    }
   ],
   "source": [
    "# Drop the 'Unnamed: 0' column if it exists\n",
    "data_cleaned = data.drop(columns=['Unnamed: 0'], errors='ignore')\n",
    "\n",
    "# Check the result\n",
    "data_cleaned.head()"
   ]
  },
  {
   "cell_type": "code",
   "execution_count": 20,
   "id": "0b6e00d6-b70d-402a-b202-b4a6fa84b769",
   "metadata": {},
   "outputs": [
    {
     "name": "stdout",
     "output_type": "stream",
     "text": [
      "ID            0\n",
      "Name          0\n",
      "Age           0\n",
      "Email         0\n",
      "Join Date     0\n",
      "Salary        0\n",
      "Department    0\n",
      "dtype: int64\n"
     ]
    }
   ],
   "source": [
    "# Fill missing values for 'Age' and 'Salary' with the median\n",
    "data_cleaned['Age'].fillna(data_cleaned['Age'].median(), inplace=True)\n",
    "data_cleaned['Salary'].fillna(data_cleaned['Salary'].median(), inplace=True)\n",
    "\n",
    "# Drop rows with missing 'Name', 'Email', 'Join Date', or 'Department'\n",
    "data_cleaned.dropna(subset=['Name', 'Email', 'Join Date', 'Department'], inplace=True)\n",
    "\n",
    "# Check for remaining missing values after handling\n",
    "print(data_cleaned.isnull().sum())\n"
   ]
  },
  {
   "cell_type": "markdown",
   "id": "05756b4e-6f49-4e49-b099-8c41838d33f9",
   "metadata": {},
   "source": [
    "Median Imputation: For numeric columns like Age and Salary, using the median is a good option since it is robust to outliers and ensures that the central tendency of the data is preserved.\n",
    "\n",
    "Dropping Rows: Since fields like Name, Email, Join Date, and Department are critical, missing values in these fields would significantly impact analysis. It’s best to drop rows that are missing these values.\n"
   ]
  },
  {
   "cell_type": "markdown",
   "id": "46f5e2e4-e980-489d-be64-ab65a7b33b1b",
   "metadata": {},
   "source": [
    "#### Remove Duplicates:"
   ]
  },
  {
   "cell_type": "code",
   "execution_count": 21,
   "id": "abb8efbc-86a8-42bf-84f9-ec46c7ee6d6f",
   "metadata": {},
   "outputs": [
    {
     "name": "stdout",
     "output_type": "stream",
     "text": [
      "Number of duplicate rows: 69\n"
     ]
    }
   ],
   "source": [
    "# Check for duplicates in the dataset\n",
    "duplicates = data_cleaned.duplicated().sum()\n",
    "print(f\"Number of duplicate rows: {duplicates}\")"
   ]
  },
  {
   "cell_type": "code",
   "execution_count": 22,
   "id": "8908e2b4-e55c-4cb9-a3ef-c714e876d6dc",
   "metadata": {},
   "outputs": [
    {
     "name": "stdout",
     "output_type": "stream",
     "text": [
      "Number of duplicate rows after removal: 0\n"
     ]
    }
   ],
   "source": [
    "# Remove duplicate rows\n",
    "data_cleaned = data_cleaned.drop_duplicates()\n",
    "\n",
    "# Verify that duplicates have been removed\n",
    "duplicates_after = data_cleaned.duplicated().sum()\n",
    "print(f\"Number of duplicate rows after removal: {duplicates_after}\")\n"
   ]
  },
  {
   "cell_type": "markdown",
   "id": "5e19c127-a90e-44dc-bc9d-6d79e5f5de27",
   "metadata": {},
   "source": [
    "#### Correcting Email Formats:"
   ]
  },
  {
   "cell_type": "code",
   "execution_count": 23,
   "id": "7c5ac049-6fbc-44e7-8248-e88a15202545",
   "metadata": {},
   "outputs": [
    {
     "name": "stdout",
     "output_type": "stream",
     "text": [
      "Number of invalid email addresses: 1753\n"
     ]
    }
   ],
   "source": [
    "import re\n",
    "\n",
    "# Define a regex pattern to identify valid email formats (username@domain.com)\n",
    "email_pattern = r'^[a-zA-Z0-9_.+-]+@[a-zA-Z0-9-]+\\.[a-zA-Z0-9-.]+$'\n",
    "\n",
    "# Check for invalid email formats\n",
    "invalid_emails = data_cleaned[~data_cleaned['Email'].str.match(email_pattern, na=False)]\n",
    "print(f\"Number of invalid email addresses: {len(invalid_emails)}\")\n"
   ]
  },
  {
   "cell_type": "code",
   "execution_count": 24,
   "id": "3224aaeb-ddc7-4127-95d6-f3010c604ea7",
   "metadata": {},
   "outputs": [],
   "source": [
    "# Drop rows with invalid email formats\n",
    "data_cleaned = data_cleaned[data_cleaned['Email'].str.match(email_pattern, na=False)]"
   ]
  },
  {
   "cell_type": "code",
   "execution_count": 25,
   "id": "cfebdb1c-01d1-496f-b080-1a3872342358",
   "metadata": {},
   "outputs": [
    {
     "name": "stdout",
     "output_type": "stream",
     "text": [
      "Sample of valid and professional emails:\n",
      "5     milleryvonne@fowler-york.com\n",
      "9         denisemaynard@jordan.com\n",
      "14       griffinlinda@harrison.com\n",
      "16         longjennifer@parker.biz\n",
      "21             amyclements@lee.biz\n",
      "Name: Email, dtype: object\n"
     ]
    }
   ],
   "source": [
    "# Filter for professional email domains (excluding common personal domains like Gmail, Yahoo, etc.)\n",
    "non_professional_domains = ['gmail.com', 'yahoo.com', 'hotmail.com', 'outlook.com']\n",
    "\n",
    "# Extract domain from email and filter for professional domains\n",
    "data_cleaned['Email Domain'] = data_cleaned['Email'].apply(lambda x: x.split('@')[1])\n",
    "data_cleaned = data_cleaned[~data_cleaned['Email Domain'].isin(non_professional_domains)]\n",
    "\n",
    "# Drop the 'Email Domain' column as it was used for filtering\n",
    "data_cleaned.drop(columns=['Email Domain'], inplace=True)\n",
    "\n",
    "# Verify the remaining emails\n",
    "print(\"Sample of valid and professional emails:\")\n",
    "print(data_cleaned['Email'].head())"
   ]
  },
  {
   "cell_type": "markdown",
   "id": "8387122c-0ac4-43b3-b4b3-b3410fb938f4",
   "metadata": {},
   "source": [
    "#### Clean Name Fields:"
   ]
  },
  {
   "cell_type": "code",
   "execution_count": 26,
   "id": "96af09a8-9b5e-4b8a-b957-9d2594f03a01",
   "metadata": {},
   "outputs": [
    {
     "name": "stdout",
     "output_type": "stream",
     "text": [
      "Index(['ID', 'Name', 'Age', 'Email', 'Join Date', 'Salary', 'Department'], dtype='object')\n"
     ]
    }
   ],
   "source": [
    "print(data_cleaned.columns)"
   ]
  },
  {
   "cell_type": "code",
   "execution_count": 27,
   "id": "e3102a10-39b5-4d05-92fc-844e98674ced",
   "metadata": {},
   "outputs": [
    {
     "name": "stdout",
     "output_type": "stream",
     "text": [
      "Sample of cleaned names:\n",
      "5         Lisa Bailey\n",
      "9          Jay Fisher\n",
      "14    Nicole Cardenas\n",
      "16       Mark Wilkins\n",
      "21    Danny Martinred\n",
      "Name: Name, dtype: object\n"
     ]
    }
   ],
   "source": [
    "import re\n",
    "\n",
    "# Function to clean the name fields by removing noise\n",
    "def clean_name(name):\n",
    "    # Remove any non-alphabetic characters (e.g., numbers, special characters)\n",
    "    clean_name = re.sub(r'[^a-zA-Z\\s]', '', name)\n",
    "    # Standardize to title case (capitalize the first letter of each word)\n",
    "    return clean_name.title()\n",
    "\n",
    "# Apply the cleaning function to the 'Name' column\n",
    "data_cleaned['Name'] = data_cleaned['Name'].apply(lambda x: clean_name(x) if pd.notnull(x) else x)\n",
    "\n",
    "# Verify cleaned names by checking the first few rows\n",
    "print(\"Sample of cleaned names:\")\n",
    "print(data_cleaned['Name'].head())"
   ]
  },
  {
   "cell_type": "markdown",
   "id": "15f8b1d1-e9c7-46d3-b445-6a1535d8b501",
   "metadata": {},
   "source": [
    "#### Standardise Date Formats:"
   ]
  },
  {
   "cell_type": "code",
   "execution_count": 28,
   "id": "fc6e2542-8b2f-4bda-884e-c62becf638ff",
   "metadata": {},
   "outputs": [
    {
     "name": "stdout",
     "output_type": "stream",
     "text": [
      "Sample of standardized 'Join Date':\n",
      "5     2016-10-15\n",
      "14    2003-10-16\n",
      "16    1991-02-17\n",
      "23    1989-10-06\n",
      "57    2014-11-19\n",
      "Name: Join Date, dtype: object\n"
     ]
    },
    {
     "name": "stderr",
     "output_type": "stream",
     "text": [
      "C:\\Users\\hp\\AppData\\Local\\Temp\\ipykernel_9256\\4241413652.py:3: UserWarning: Parsing dates in %d/%m/%Y format when dayfirst=False (the default) was specified. Pass `dayfirst=True` or specify a format to silence this warning.\n",
      "  data_cleaned['Join Date'] = pd.to_datetime(data_cleaned['Join Date'], errors='coerce')\n"
     ]
    }
   ],
   "source": [
    "# Convert 'Join Date' to datetime format and handle errors (e.g., invalid dates)\n",
    "# errors='coerce' will convert invalid dates to NaT (Not a Time)\n",
    "data_cleaned['Join Date'] = pd.to_datetime(data_cleaned['Join Date'], errors='coerce')\n",
    "\n",
    "# Drop rows where 'Join Date' is still NaT (invalid dates)\n",
    "data_cleaned.dropna(subset=['Join Date'], inplace=True)\n",
    "\n",
    "# Format the dates in 'YYYY-MM-DD' format\n",
    "data_cleaned['Join Date'] = data_cleaned['Join Date'].dt.strftime('%Y-%m-%d')\n",
    "\n",
    "# Verify the standardized dates\n",
    "print(\"Sample of standardized 'Join Date':\")\n",
    "print(data_cleaned['Join Date'].head())\n"
   ]
  },
  {
   "cell_type": "markdown",
   "id": "d9c7d8f9-f581-4fd9-935c-55014797a9ab",
   "metadata": {},
   "source": [
    "#### Correct Department Names:"
   ]
  },
  {
   "cell_type": "code",
   "execution_count": 29,
   "id": "b570d91f-34e2-40a7-b4d8-bd6bf4b79553",
   "metadata": {},
   "outputs": [
    {
     "name": "stdout",
     "output_type": "stream",
     "text": [
      "Unique department names before cleaning:\n",
      "['SupportE' 'Marketing' 'SalesX' 'Engineeringi' 'HR' 'Marketingv' 'Sales'\n",
      " 'Salesj' 'Supporto' 'Engineering' 'Salesy' 'Marketingm' 'Support'\n",
      " 'Marketingp' 'SupportT' 'EngineeringR' 'MarketingQ' 'Saless' 'MarketingO'\n",
      " 'SalesI' 'Salesu' 'Supportk' 'Marketingk' 'Supportp' 'Engineeringz'\n",
      " 'Engineeringl' 'HRm' 'Supportd' 'EngineeringJ' 'HRq' 'SupportL' 'Salese'\n",
      " 'HRX' 'MarketingN' 'MarketingE' 'EngineeringZ' 'Supporta' 'Engineeringh'\n",
      " 'Salesl' 'Supportn' 'EngineeringE' 'Engineeringq' 'EngineeringU'\n",
      " 'Marketingq' 'Salesv' 'Marketingy' 'EngineeringF' 'HRu' 'Supportt'\n",
      " 'Salesd' 'SalesL' 'MarketingD' 'MarketingV' 'EngineeringX' 'MarketingX'\n",
      " 'HRR' 'Marketingl' 'HRU' 'HRl' 'EngineeringN' 'Supportc' 'Engineeringj'\n",
      " 'HRt' 'SalesK' 'HRS' 'SupportI' 'Salesg' 'SupportR' 'SupportX' 'Supportu'\n",
      " 'HRK' 'HRb' 'Engineeringt' 'Engineeringk' 'SupportW' 'Marketingu' 'HRF'\n",
      " 'Supports' 'SupportO' 'SupportU' 'EngineeringG' 'EngineeringD' 'HRI'\n",
      " 'HRy' 'SalesQ' 'Salesm' 'HRf' 'Supportw' 'Marketingz' 'MarketingP'\n",
      " 'EngineeringV' 'SupportQ' 'Marketinge' 'SalesR' 'HRL' 'SupportC' 'SalesD']\n"
     ]
    }
   ],
   "source": [
    "# Review the unique department names before cleaning\n",
    "print(\"Unique department names before cleaning:\")\n",
    "print(data_cleaned['Department'].unique())"
   ]
  },
  {
   "cell_type": "code",
   "execution_count": 30,
   "id": "109ec42a-8275-4366-aa8e-d2102d75a404",
   "metadata": {},
   "outputs": [
    {
     "name": "stdout",
     "output_type": "stream",
     "text": [
      "\n",
      "Unique Department Names After Cleaning:\n",
      " ['Sales' 'Engineering' 'Support' 'Marketing' 'HR']\n"
     ]
    }
   ],
   "source": [
    "# Drop rows where 'Department' is NaN\n",
    "data = data.dropna(subset=['Department'])\n",
    "\n",
    "# Now standardize the 'Department' column\n",
    "data.loc[data['Department'].str.contains('Support', case=False), 'Department'] = 'Support'\n",
    "data.loc[data['Department'].str.contains('Marketing', case=False), 'Department'] = 'Marketing'\n",
    "data.loc[data['Department'].str.contains('Sales', case=False), 'Department'] = 'Sales'\n",
    "data.loc[data['Department'].str.contains('Engineering', case=False), 'Department'] = 'Engineering'\n",
    "data.loc[data['Department'].str.contains('HR', case=False), 'Department'] = 'HR'\n",
    "\n",
    "# Check unique department names after standardization\n",
    "unique_departments_after = data['Department'].unique()\n",
    "print(\"\\nUnique Department Names After Cleaning:\\n\", unique_departments_after)\n"
   ]
  },
  {
   "cell_type": "markdown",
   "id": "ec2d14fa-94bb-4bdb-9bab-b0da1f6081d1",
   "metadata": {},
   "source": [
    "#### Handle Salary Noise:"
   ]
  },
  {
   "cell_type": "code",
   "execution_count": 31,
   "id": "e25cd0ac-9cd8-43cf-b6ae-134676a2a61b",
   "metadata": {},
   "outputs": [
    {
     "data": {
      "image/png": "[encoded data removed]",
      "text/plain": [
       "<Figure size 1000x600 with 1 Axes>"
      ]
     },
     "metadata": {},
     "output_type": "display_data"
    }
   ],
   "source": [
    "import matplotlib.pyplot as plt\n",
    "import seaborn as sns\n",
    "\n",
    "# Visualize the salary distribution\n",
    "plt.figure(figsize=(10, 6))\n",
    "sns.boxplot(data_cleaned['Salary'])\n",
    "plt.title('Salary Distribution')\n",
    "plt.show()\n"
   ]
  },
  {
   "cell_type": "markdown",
   "id": "1bb8d8f1-bc9d-4581-8312-a4e10129606d",
   "metadata": {},
   "source": [
    "1. The salary data appears to be mostly centered around the 90,000 range.\n",
    "2. No extreme salary outliers are visible, indicating the data is fairly clean in terms of salary values after applying noise reduction.\n",
    "3. The interquartile range (IQR) is from 64,287 to 123,152, suggesting that 50% of the employees fall within this salary range."
   ]
  },
  {
   "cell_type": "code",
   "execution_count": 32,
   "id": "632e7c7a-7d4b-4fe0-bb79-69c718783188",
   "metadata": {},
   "outputs": [
    {
     "name": "stdout",
     "output_type": "stream",
     "text": [
      "count       520.000000\n",
      "mean      92111.885636\n",
      "std       35171.434541\n",
      "min       28418.438366\n",
      "25%       64287.238472\n",
      "50%       89241.000000\n",
      "75%      123152.250000\n",
      "max      175218.428249\n",
      "Name: Salary, dtype: float64\n"
     ]
    }
   ],
   "source": [
    "# Check basic statistics of the Salary column\n",
    "print(data_cleaned['Salary'].describe())"
   ]
  },
  {
   "cell_type": "markdown",
   "id": "c00053d7-c007-499b-b390-a1fdedd471c6",
   "metadata": {},
   "source": [
    "Based on the boxplot and summary statistics from the describe() method For example:\n",
    "\n",
    "Minimum salary: A reasonable lower bound might be around $20,000.\n",
    "\n",
    "Maximum salary: The upper bound could be around $300,000, based on typical salary ranges.\n"
   ]
  },
  {
   "cell_type": "code",
   "execution_count": 33,
   "id": "14deb36e-c5c1-4225-8138-f0f0fb011637",
   "metadata": {},
   "outputs": [],
   "source": [
    "# Define a reasonable salary range (for example, between 20,000 and 300,000)\n",
    "min_salary = 20000\n",
    "max_salary = 300000"
   ]
  },
  {
   "cell_type": "code",
   "execution_count": 34,
   "id": "c8acd4f8-7ed3-4ec8-862a-95750fc246d9",
   "metadata": {},
   "outputs": [
    {
     "name": "stdout",
     "output_type": "stream",
     "text": [
      "Salary column after handling noise:\n",
      "count       520.000000\n",
      "mean      92111.885636\n",
      "std       35171.434541\n",
      "min       28418.438366\n",
      "25%       64287.238472\n",
      "50%       89241.000000\n",
      "75%      123152.250000\n",
      "max      175218.428249\n",
      "Name: Salary, dtype: float64\n"
     ]
    }
   ],
   "source": [
    "# Remove rows where Salary is outside the defined reasonable range\n",
    "data_cleaned = data_cleaned[(data_cleaned['Salary'] >= min_salary) & (data_cleaned['Salary'] <= max_salary)]\n",
    "\n",
    "# Verify the cleaned salary data\n",
    "print(\"Salary column after handling noise:\")\n",
    "print(data_cleaned['Salary'].describe())"
   ]
  },
  {
   "cell_type": "code",
   "execution_count": 35,
   "id": "3c2c87dd-ec46-4db4-bcc1-d8b1b6ada9b6",
   "metadata": {},
   "outputs": [
    {
     "data": {
      "image/png": "[encoded data removed]",
      "text/plain": [
       "<Figure size 1400x600 with 2 Axes>"
      ]
     },
     "metadata": {},
     "output_type": "display_data"
    },
    {
     "data": {
      "image/png": "[encoded data removed]",
      "text/plain": [
       "<Figure size 1400x600 with 2 Axes>"
      ]
     },
     "metadata": {},
     "output_type": "display_data"
    }
   ],
   "source": [
    "import matplotlib.pyplot as plt\n",
    "import seaborn as sns\n",
    "\n",
    "# Visualize the salary distribution before removing outliers\n",
    "plt.figure(figsize=(14, 6))\n",
    "\n",
    "plt.subplot(1, 2, 1)\n",
    "sns.histplot(data['Salary'], bins=30, kde=True)\n",
    "plt.title('Salary Distribution Before Cleaning')\n",
    "plt.xlabel('Salary')\n",
    "plt.ylabel('Frequency')\n",
    "\n",
    "plt.subplot(1, 2, 2)\n",
    "sns.boxplot(data['Salary'])\n",
    "plt.title('Salary Boxplot Before Cleaning')\n",
    "plt.ylabel('Salary')\n",
    "\n",
    "plt.show()\n",
    "\n",
    "# Visualize the salary distribution after removing outliers\n",
    "plt.figure(figsize=(14, 6))\n",
    "\n",
    "plt.subplot(1, 2, 1)\n",
    "sns.histplot(data_cleaned['Salary'], bins=30, kde=True)\n",
    "plt.title('Salary Distribution After Cleaning')\n",
    "plt.xlabel('Salary')\n",
    "plt.ylabel('Frequency')\n",
    "\n",
    "plt.subplot(1, 2, 2)\n",
    "sns.boxplot(data_cleaned['Salary'])\n",
    "plt.title('Salary Boxplot After Cleaning')\n",
    "plt.ylabel('Salary')\n",
    "\n",
    "plt.show()\n"
   ]
  },
  {
   "cell_type": "markdown",
   "id": "c9cd3b2f-64c4-41bb-893d-6c40cea9e030",
   "metadata": {},
   "source": [
    "Before Cleaning:\n",
    "\n",
    "The salary distribution before cleaning showed a relatively uniform spread of values, with most salaries ranging between 60,000 and 120,000.\n",
    "The boxplot highlighted a typical range of salaries, with no major outliers visible. The interquartile range (IQR) spanned between approximately 64,000 to 123,000.\n",
    "After Cleaning (Removal of Out-of-Range Salaries):\n",
    "\n",
    "The cleaning process involved filtering out rows where the salary was outside a defined range (i.e., between min_salary and max_salary). This step removed salary values that were deemed unreasonable or extreme.\n",
    "As seen in the salary distribution after cleaning, the concentration of salaries has increased, particularly around the median (around 100,000). The distribution became more focused, likely because salaries that were too high or too low were removed.\n",
    "The boxplot after cleaning remains similar in shape to the pre-cleaning boxplot, indicating that the removal of extreme salary values did not drastically change the overall range. The whiskers and IQR still cover similar salary ranges, but the distribution of values is now more concentrated.\n"
   ]
  },
  {
   "cell_type": "markdown",
   "id": "f8a89e92-c407-49a6-a53f-72b7c19e5f17",
   "metadata": {},
   "source": [
    "Key Points:\n",
    "The process of removing salary values outside the defined range helped concentrate the salary distribution, as seen in the histogram, especially around the median.\n",
    "The boxplot shows that there were no major outliers originally, but the removal of certain entries slightly refined the overall salary distribution.\n",
    "This method helped ensure that only salaries within a reasonable range were retained, leading to a more coherent dataset for analysis.\n",
    "\n"
   ]
  },
  {
   "cell_type": "markdown",
   "id": "eda10748-2c14-49c1-8123-2dfeeed141bf",
   "metadata": {},
   "source": [
    "<div style=\"background-color:green; padding: 10px; border-radius: 5px;text-align: center;\">\n",
    "<h3 style=\"color: white;\">DOCUMENTATION</h3>\n",
    "</div>"
   ]
  },
  {
   "cell_type": "markdown",
   "id": "88fb991c-7ba3-4f45-9313-7abf1bf4e538",
   "metadata": {},
   "source": [
    "##### Missing Data in Critical Columns\n",
    "\n",
    "- Assumption: Missing values in columns like Name, Email, Join Date, Department, and Salary are critical for analysis. If these columns had missing values, they were considered unusable, and the corresponding rows were removed.\n",
    "- Method Used: Used dropna() to remove rows with missing values in critical columns, while for less critical columns like Age, missing values were imputed with the median.\n",
    "\n",
    "##### Assumption: Name Fields Contain Extraneous Characters\n",
    "- Assumption: The Name column might contain extraneous words or characters (e.g., leading/trailing spaces, uncapitalized names) that needed to be cleaned for consistency.\n",
    "- Method Used: Standardized names by stripping spaces and capitalizing each name.\n",
    "\n",
    "##### Dates in Join Date Column\n",
    "- Assumption: All dates in the Join Date column should follow the YYYY-MM-DD format to ensure consistency across the dataset.\n",
    "- Method Used: Used pd.to_datetime() to standardize the date format and handled invalid date formats by coercing errors.\n",
    "\n",
    "##### Department Name Standardization\n",
    "- Assumption: Typos in the Department column could exist, and standard department names should be limited to HR, Engineering, Marketing, Sales, and Support.\n",
    "- Method Used: Mapped and replaced erroneous department names with the correct standardized names.\n",
    "\n",
    "##### Salary Range Validity\n",
    "- Assumption: The salary should fall within a reasonable range. Based on domain knowledge or statistical measures (like the interquartile range), values outside of a minimum (20,000) and maximum (300,000) were considered noise and removed.\n",
    "- Method Used: Filtered out salaries that fell outside of the defined bounds.\n",
    "\n",
    "##### Removal of Duplicate Records\n",
    "- Assumption: Any duplicate rows in the dataset represented redundant information and should be removed to maintain data integrity.\n",
    "- Method Used: Identified and removed duplicate records based on all columns.\n"
   ]
  },
  {
   "cell_type": "code",
   "execution_count": null,
   "id": "b7c59bf4-04ac-4dc5-af9c-ecf0319e9e9c",
   "metadata": {},
   "outputs": [],
   "source": []
  }
 ],
 "metadata": {
  "kernelspec": {
   "display_name": "Python 3 (ipykernel)",
   "language": "python",
   "name": "python3"
  },
  "language_info": {
   "codemirror_mode": {
    "name": "ipython",
    "version": 3
   },
   "file_extension": ".py",
   "mimetype": "text/x-python",
   "name": "python",
   "nbconvert_exporter": "python",
   "pygments_lexer": "ipython3",
   "version": "3.11.5"
  }
 },
 "nbformat": 4,
 "nbformat_minor": 5
}
